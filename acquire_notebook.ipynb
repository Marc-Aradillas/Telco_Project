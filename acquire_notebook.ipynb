{
 "cells": [
  {
   "cell_type": "markdown",
   "id": "424245fb-1af3-4047-a120-33f64eedbde8",
   "metadata": {},
   "source": [
    "# Acquisition  | Defined Functions\n",
    "    * Turn into a pyhton script file and use as a module for final report.ipynb"
   ]
  },
  {
   "cell_type": "code",
   "execution_count": null,
   "id": "ed7ee00b-56cf-43dd-bea1-23e479135206",
   "metadata": {},
   "outputs": [],
   "source": [
    "import os\n",
    "import pandas as pd\n",
    "\n",
    "from env import get_connection"
   ]
  },
  {
   "cell_type": "code",
   "execution_count": null,
   "id": "fcbc3345-e829-40c7-b29e-5d5741642b4e",
   "metadata": {},
   "outputs": [],
   "source": [
    "db_url = get_connection('telco_churn')\n",
    "\n",
    "# edit query\n",
    "query = '''\n",
    "        SELECT internet_service_type_id, contract_type_id, payment_type_id\n",
    "        FROM customers\n",
    "        JOIN internet_service_types USING (internet_service_type_id)\n",
    "        JOIN contract_types USING (contract_type_id)\n",
    "        JOIN payment_types USING (payment_type_id)\n",
    "        ;\n",
    "        '''\n",
    "\n",
    "telco_data = pd.read_sql(query, db_url)\n",
    "telco_data.head()\n",
    "\n",
    "\n",
    "\n",
    "\n",
    "def get_telco_data():\n",
    "\n",
    "    filename = 'telco.csv'\n",
    "\n",
    "    if os.path.isfile(filename):\n",
    "\n",
    "        print('Found your sauce my bro')\n",
    "\n",
    "        return pd.read_csv(filename)\n",
    "        \n",
    "    else:\n",
    "\n",
    "        print('Searching for the sauce my guy')\n",
    "        \n",
    "        url = get_connection('telco_churn')\n",
    "\n",
    "        query = '''\n",
    "                SELECT *\n",
    "                FROM customers\n",
    "                JOIN internet_service_types USING (internet_service_type_id)\n",
    "                JOIN contract_types USING (contract_type_id)\n",
    "                JOIN payment_types USING (payment_type_id)\n",
    "                ;\n",
    "                '''\n",
    "        \n",
    "        telco_df = pd.read_sql(query, url)\n",
    "        telco_df.to_csv(filename, index = 0)\n",
    "        \n",
    "        return telco_df"
   ]
  }
 ],
 "metadata": {
  "kernelspec": {
   "display_name": "Python 3 (ipykernel)",
   "language": "python",
   "name": "python3"
  },
  "language_info": {
   "codemirror_mode": {
    "name": "ipython",
    "version": 3
   },
   "file_extension": ".py",
   "mimetype": "text/x-python",
   "name": "python",
   "nbconvert_exporter": "python",
   "pygments_lexer": "ipython3",
   "version": "3.10.9"
  }
 },
 "nbformat": 4,
 "nbformat_minor": 5
}
