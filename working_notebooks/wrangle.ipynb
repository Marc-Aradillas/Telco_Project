{
 "cells": [
  {
   "cell_type": "markdown",
   "id": "abf57a65-0de7-49b3-b60b-a593c33f732d",
   "metadata": {},
   "source": [
    "# Wrangle Data defnied function to call prepare and acquire modules and make clean data easily reproducible\n",
    "## This makes the code more modular as well."
   ]
  },
  {
   "cell_type": "markdown",
   "id": "9e2536e0-34eb-49c0-be48-bd961475420e",
   "metadata": {},
   "source": [
    "### first attempt"
   ]
  },
  {
   "cell_type": "code",
   "execution_count": 1,
   "id": "7bd6e975-c62a-4b2b-850f-8e75defe93ae",
   "metadata": {},
   "outputs": [],
   "source": [
    "# # create a .py file with my acquire and prepare module and define a function to wrangle data calling functions from modules.\n",
    "import numpy as np\n",
    "import pandas as pd\n",
    "\n",
    "# from acquire import get_telco_data\n",
    "# from prepare import clean_telco_data\n",
    "\n",
    "# def wrangle_data():\n",
    "#     \"\"\"\n",
    "#     This function wrangles the data by acquiring and preparing it.\n",
    "\n",
    "#     Returns:\n",
    "#         Pandas DataFrame\n",
    "#     \"\"\"\n",
    "\n",
    "#     df = get_telco_data()\n",
    "#     df = clean_telco_data()\n",
    "    \n",
    "#     return train, val, test"
   ]
  },
  {
   "cell_type": "code",
   "execution_count": 2,
   "id": "89d9cc49-dfa8-4319-8ddb-17c21bac1b76",
   "metadata": {},
   "outputs": [],
   "source": [
    "# create a .py file with my acquire and prepare module and define a function to wrangle data calling functions from modules.\n",
    "from prepare import clean_telco_data\n",
    "\n",
    "def wrangle():\n",
    "    \"\"\"\n",
    "    This function wrangles the data by acquiring and preparing it.\n",
    "\n",
    "    Returns:\n",
    "        Pandas DataFrame of train, val, and test subsets\n",
    "    \"\"\"\n",
    "\n",
    "    df = clean_telco_data()\n",
    "    \n",
    "    return df"
   ]
  },
  {
   "cell_type": "code",
   "execution_count": 3,
   "id": "6309dd4a-0465-4f76-a2bc-abf926a77aa9",
   "metadata": {},
   "outputs": [],
   "source": [
    "train, val, test = wrangle()"
   ]
  },
  {
   "cell_type": "markdown",
   "id": "5b9f901c-6a5b-4f1c-a80f-5fef0d49ac3d",
   "metadata": {},
   "source": [
    "## Checked function "
   ]
  },
  {
   "cell_type": "code",
   "execution_count": 4,
   "id": "7190dbaa-bc4c-4393-8071-a50f875dd055",
   "metadata": {},
   "outputs": [
    {
     "data": {
      "text/html": [
       "<div>\n",
       "<style scoped>\n",
       "    .dataframe tbody tr th:only-of-type {\n",
       "        vertical-align: middle;\n",
       "    }\n",
       "\n",
       "    .dataframe tbody tr th {\n",
       "        vertical-align: top;\n",
       "    }\n",
       "\n",
       "    .dataframe thead th {\n",
       "        text-align: right;\n",
       "    }\n",
       "</style>\n",
       "<table border=\"1\" class=\"dataframe\">\n",
       "  <thead>\n",
       "    <tr style=\"text-align: right;\">\n",
       "      <th></th>\n",
       "      <th>customer_id</th>\n",
       "      <th>senior_citizen</th>\n",
       "      <th>tenure</th>\n",
       "      <th>monthly_charges</th>\n",
       "      <th>total_charges</th>\n",
       "      <th>gender</th>\n",
       "      <th>partner</th>\n",
       "      <th>dependents</th>\n",
       "      <th>phone</th>\n",
       "      <th>multiple_lines</th>\n",
       "      <th>...</th>\n",
       "      <th>churn</th>\n",
       "      <th>dsl</th>\n",
       "      <th>fiber_optic</th>\n",
       "      <th>month_to_month</th>\n",
       "      <th>one_year</th>\n",
       "      <th>two_year</th>\n",
       "      <th>bank_transfer_payment</th>\n",
       "      <th>credit_card_payment</th>\n",
       "      <th>electronic_payment</th>\n",
       "      <th>mailed_payment</th>\n",
       "    </tr>\n",
       "  </thead>\n",
       "  <tbody>\n",
       "    <tr>\n",
       "      <th>4604</th>\n",
       "      <td>6490-FGZAT</td>\n",
       "      <td>0</td>\n",
       "      <td>6</td>\n",
       "      <td>20.65</td>\n",
       "      <td>109.30</td>\n",
       "      <td>1</td>\n",
       "      <td>0</td>\n",
       "      <td>0</td>\n",
       "      <td>1</td>\n",
       "      <td>0</td>\n",
       "      <td>...</td>\n",
       "      <td>0</td>\n",
       "      <td>0</td>\n",
       "      <td>1</td>\n",
       "      <td>1</td>\n",
       "      <td>0</td>\n",
       "      <td>0</td>\n",
       "      <td>0</td>\n",
       "      <td>0</td>\n",
       "      <td>0</td>\n",
       "      <td>1</td>\n",
       "    </tr>\n",
       "    <tr>\n",
       "      <th>4051</th>\n",
       "      <td>5707-ORNDZ</td>\n",
       "      <td>1</td>\n",
       "      <td>9</td>\n",
       "      <td>54.55</td>\n",
       "      <td>494.05</td>\n",
       "      <td>1</td>\n",
       "      <td>0</td>\n",
       "      <td>0</td>\n",
       "      <td>1</td>\n",
       "      <td>1</td>\n",
       "      <td>...</td>\n",
       "      <td>1</td>\n",
       "      <td>1</td>\n",
       "      <td>0</td>\n",
       "      <td>1</td>\n",
       "      <td>0</td>\n",
       "      <td>0</td>\n",
       "      <td>0</td>\n",
       "      <td>0</td>\n",
       "      <td>1</td>\n",
       "      <td>0</td>\n",
       "    </tr>\n",
       "    <tr>\n",
       "      <th>5159</th>\n",
       "      <td>7252-NTGSS</td>\n",
       "      <td>0</td>\n",
       "      <td>1</td>\n",
       "      <td>45.15</td>\n",
       "      <td>45.15</td>\n",
       "      <td>0</td>\n",
       "      <td>0</td>\n",
       "      <td>0</td>\n",
       "      <td>1</td>\n",
       "      <td>0</td>\n",
       "      <td>...</td>\n",
       "      <td>0</td>\n",
       "      <td>1</td>\n",
       "      <td>0</td>\n",
       "      <td>1</td>\n",
       "      <td>0</td>\n",
       "      <td>0</td>\n",
       "      <td>0</td>\n",
       "      <td>0</td>\n",
       "      <td>0</td>\n",
       "      <td>1</td>\n",
       "    </tr>\n",
       "    <tr>\n",
       "      <th>2974</th>\n",
       "      <td>4250-WAROZ</td>\n",
       "      <td>1</td>\n",
       "      <td>60</td>\n",
       "      <td>93.25</td>\n",
       "      <td>5774.55</td>\n",
       "      <td>1</td>\n",
       "      <td>1</td>\n",
       "      <td>1</td>\n",
       "      <td>1</td>\n",
       "      <td>1</td>\n",
       "      <td>...</td>\n",
       "      <td>0</td>\n",
       "      <td>0</td>\n",
       "      <td>1</td>\n",
       "      <td>1</td>\n",
       "      <td>0</td>\n",
       "      <td>0</td>\n",
       "      <td>0</td>\n",
       "      <td>0</td>\n",
       "      <td>1</td>\n",
       "      <td>0</td>\n",
       "    </tr>\n",
       "    <tr>\n",
       "      <th>2979</th>\n",
       "      <td>4257-GAESD</td>\n",
       "      <td>0</td>\n",
       "      <td>6</td>\n",
       "      <td>45.00</td>\n",
       "      <td>298.70</td>\n",
       "      <td>0</td>\n",
       "      <td>0</td>\n",
       "      <td>0</td>\n",
       "      <td>0</td>\n",
       "      <td>0</td>\n",
       "      <td>...</td>\n",
       "      <td>0</td>\n",
       "      <td>1</td>\n",
       "      <td>0</td>\n",
       "      <td>1</td>\n",
       "      <td>0</td>\n",
       "      <td>0</td>\n",
       "      <td>0</td>\n",
       "      <td>1</td>\n",
       "      <td>0</td>\n",
       "      <td>0</td>\n",
       "    </tr>\n",
       "  </tbody>\n",
       "</table>\n",
       "<p>5 rows × 27 columns</p>\n",
       "</div>"
      ],
      "text/plain": [
       "     customer_id  senior_citizen  tenure  monthly_charges  total_charges  \\\n",
       "4604  6490-FGZAT               0       6            20.65         109.30   \n",
       "4051  5707-ORNDZ               1       9            54.55         494.05   \n",
       "5159  7252-NTGSS               0       1            45.15          45.15   \n",
       "2974  4250-WAROZ               1      60            93.25        5774.55   \n",
       "2979  4257-GAESD               0       6            45.00         298.70   \n",
       "\n",
       "      gender  partner  dependents  phone  multiple_lines  ...  churn  dsl  \\\n",
       "4604       1        0           0      1               0  ...      0    0   \n",
       "4051       1        0           0      1               1  ...      1    1   \n",
       "5159       0        0           0      1               0  ...      0    1   \n",
       "2974       1        1           1      1               1  ...      0    0   \n",
       "2979       0        0           0      0               0  ...      0    1   \n",
       "\n",
       "      fiber_optic  month_to_month  one_year  two_year  bank_transfer_payment  \\\n",
       "4604            1               1         0         0                      0   \n",
       "4051            0               1         0         0                      0   \n",
       "5159            0               1         0         0                      0   \n",
       "2974            1               1         0         0                      0   \n",
       "2979            0               1         0         0                      0   \n",
       "\n",
       "      credit_card_payment  electronic_payment  mailed_payment  \n",
       "4604                    0                   0               1  \n",
       "4051                    0                   1               0  \n",
       "5159                    0                   0               1  \n",
       "2974                    0                   1               0  \n",
       "2979                    1                   0               0  \n",
       "\n",
       "[5 rows x 27 columns]"
      ]
     },
     "execution_count": 4,
     "metadata": {},
     "output_type": "execute_result"
    }
   ],
   "source": [
    "train.head()"
   ]
  },
  {
   "cell_type": "markdown",
   "id": "b91f6bbb-8e7f-4644-b431-186351c885b6",
   "metadata": {},
   "source": [
    "## Checked Shape"
   ]
  },
  {
   "cell_type": "code",
   "execution_count": 5,
   "id": "3623b813-8697-4328-b549-3f4129277be8",
   "metadata": {},
   "outputs": [
    {
     "name": "stdout",
     "output_type": "stream",
     "text": [
      "train -> (3943, 27)\n",
      "validate -> (1691, 27)\n",
      "test -> (1409, 27)\n"
     ]
    }
   ],
   "source": [
    "print(f'train -> {train.shape}')\n",
    "print(f'validate -> {val.shape}')\n",
    "print(f'test -> {test.shape}')"
   ]
  },
  {
   "cell_type": "code",
   "execution_count": 7,
   "id": "1b42303b-8075-483b-9e61-f0632fc50299",
   "metadata": {},
   "outputs": [],
   "source": [
    "import pandas as pd\n",
    "from sklearn.ensemble import RandomForestClassifier\n",
    "from sklearn.model_selection import train_test_split"
   ]
  },
  {
   "cell_type": "code",
   "execution_count": 9,
   "id": "e65ce816-c53c-4899-8f3d-aad49bfc99e8",
   "metadata": {},
   "outputs": [
    {
     "ename": "AttributeError",
     "evalue": "'tuple' object has no attribute 'drop'",
     "output_type": "error",
     "traceback": [
      "\u001b[0;31m---------------------------------------------------------------------------\u001b[0m",
      "\u001b[0;31mAttributeError\u001b[0m                            Traceback (most recent call last)",
      "Cell \u001b[0;32mIn[9], line 2\u001b[0m\n\u001b[1;32m      1\u001b[0m data \u001b[38;5;241m=\u001b[39m wrangle()  \u001b[38;5;66;03m# Replace with the actual function you use\u001b[39;00m\n\u001b[0;32m----> 2\u001b[0m X, y \u001b[38;5;241m=\u001b[39m \u001b[43mdata\u001b[49m\u001b[38;5;241;43m.\u001b[39;49m\u001b[43mdrop\u001b[49m(\u001b[38;5;124m'\u001b[39m\u001b[38;5;124mtarget\u001b[39m\u001b[38;5;124m'\u001b[39m, axis\u001b[38;5;241m=\u001b[39m\u001b[38;5;241m1\u001b[39m), data[\u001b[38;5;124m'\u001b[39m\u001b[38;5;124mtarget\u001b[39m\u001b[38;5;124m'\u001b[39m]\n",
      "\u001b[0;31mAttributeError\u001b[0m: 'tuple' object has no attribute 'drop'"
     ]
    }
   ],
   "source": [
    "data = wrangle()  # Replace with the actual function you use\n",
    "X, y = data.drop('target', axis=1), data['target']\n"
   ]
  },
  {
   "cell_type": "code",
   "execution_count": null,
   "id": "309ab27a-823d-49c0-a77f-2822dc631707",
   "metadata": {},
   "outputs": [],
   "source": []
  },
  {
   "cell_type": "code",
   "execution_count": null,
   "id": "bbd05bb5-5560-4736-9f05-dbdf34fe7a50",
   "metadata": {},
   "outputs": [],
   "source": []
  },
  {
   "cell_type": "code",
   "execution_count": null,
   "id": "cd67ef15-c3fd-441e-b8e7-7576382ba489",
   "metadata": {},
   "outputs": [],
   "source": []
  }
 ],
 "metadata": {
  "kernelspec": {
   "display_name": "Python 3 (ipykernel)",
   "language": "python",
   "name": "python3"
  },
  "language_info": {
   "codemirror_mode": {
    "name": "ipython",
    "version": 3
   },
   "file_extension": ".py",
   "mimetype": "text/x-python",
   "name": "python",
   "nbconvert_exporter": "python",
   "pygments_lexer": "ipython3",
   "version": "3.10.9"
  }
 },
 "nbformat": 4,
 "nbformat_minor": 5
}
